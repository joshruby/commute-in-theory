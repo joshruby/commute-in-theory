{
 "cells": [
  {
   "cell_type": "markdown",
   "metadata": {},
   "source": [
    "## Imports"
   ]
  },
  {
   "cell_type": "code",
   "execution_count": null,
   "metadata": {},
   "outputs": [],
   "source": [
    "import time\n",
    "from datetime import datetime\n",
    "import logging\n",
    "import pytz\n",
    "import requests\n",
    "from pymongo import MongoClient\n",
    "import config\n",
    "import pandas as pd\n",
    "\n",
    "FORMAT = \"%(levelname)s - %(asctime)s - %(message)s\"\n",
    "logging.basicConfig(\n",
    "        filename='cit.log',\n",
    "        filemode='w',\n",
    "        format=FORMAT,\n",
    "        level=logging.ERROR)\n",
    "LOGGER = logging.getLogger()"
   ]
  },
  {
   "cell_type": "markdown",
   "metadata": {},
   "source": [
    "#### Dev"
   ]
  },
  {
   "cell_type": "code",
   "execution_count": null,
   "metadata": {},
   "outputs": [],
   "source": [
    "import pprint\n",
    "from IPython.display import display\n",
    "\n",
    "pp = pprint.PrettyPrinter(indent=4)"
   ]
  }
 ],
 "metadata": {
  "interpreter": {
   "hash": "0fd295e966652bb779c50deabb3096007fe72c797d51d89bde647093a42eeb5b"
  },
  "kernelspec": {
   "display_name": "Python 3.10.2 ('temp-8zFiJmTX')",
   "language": "python",
   "name": "python3"
  },
  "language_info": {
   "codemirror_mode": {
    "name": "ipython",
    "version": 3
   },
   "file_extension": ".py",
   "mimetype": "text/x-python",
   "name": "python",
   "nbconvert_exporter": "python",
   "pygments_lexer": "ipython3",
   "version": "3.10.2"
  },
  "orig_nbformat": 4
 },
 "nbformat": 4,
 "nbformat_minor": 2
}
